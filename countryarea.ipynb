{
  "nbformat": 4,
  "nbformat_minor": 0,
  "metadata": {
    "colab": {
      "provenance": []
    },
    "kernelspec": {
      "name": "python3",
      "display_name": "Python 3"
    },
    "language_info": {
      "name": "python"
    }
  },
  "cells": [
    {
      "cell_type": "code",
      "source": [
        "import io\n",
        "import pandas as pd\n",
        "import numpy as np\n",
        "import matplotlib.pyplot as plt\n",
        "\n",
        "df = pd.read_csv(io.BytesIO(open('country_area.csv', 'rb').read()))\n",
        "\n",
        "df.dataframeName = 'country_area.csv'\n",
        "nRow, nCol = df.shape\n",
        "print(f'There are {nRow} responses')\n",
        "\n",
        "df['country_area_km2'] = df['country_area_km2'].astype('str')\n",
        "\n",
        "digitcount = {}\n",
        "\n",
        "# Convert the 'country_area_km2' column to string type\n",
        "df['country_area_km2'] = df['country_area_km2'].astype(str)\n",
        "\n",
        "# Initialize a dictionary to count the occurrences of each digit\n",
        "digitcount = {str(i): 0 for i in range(10)}  # Initialize counts for digits 1 to 9\n",
        "\n",
        "# Iterate through each row and count the occurrences of digits in the 'country_area_km2' column\n",
        "for index, row in df.iterrows():\n",
        "    for digit in row['country_area_km2']:\n",
        "        if digit.isdigit():\n",
        "            digitcount[digit] += 1\n",
        "\n",
        "# Calculate the total count of digits\n",
        "total_digits = sum(digitcount.values())\n",
        "\n",
        "# Calculate the percentage of each digit's occurrence\n",
        "digit_percentage = {digit: (count / total_digits) * 100 for digit, count in digitcount.items()}\n",
        "\n",
        "print(\"Percentage of each digit's occurrence:\")\n",
        "for digit, percentage in digit_percentage.items():\n",
        "    print(f\"Digit {digit}: {percentage:.2f}%\")\n",
        "\n",
        "\n",
        "\n",
        "\n"
      ],
      "metadata": {
        "colab": {
          "base_uri": "https://localhost:8080/"
        },
        "id": "dKevmB9fBhsY",
        "outputId": "35cfc981-14b5-424e-f262-fe480186ac20"
      },
      "execution_count": 12,
      "outputs": [
        {
          "output_type": "stream",
          "name": "stdout",
          "text": [
            "There are 263 responses\n",
            "Percentage of each digit's occurrence:\n",
            "Digit 0: 28.25%\n",
            "Digit 1: 11.62%\n",
            "Digit 2: 9.61%\n",
            "Digit 3: 7.79%\n",
            "Digit 4: 8.64%\n",
            "Digit 5: 7.14%\n",
            "Digit 6: 7.53%\n",
            "Digit 7: 6.82%\n",
            "Digit 8: 6.88%\n",
            "Digit 9: 5.71%\n"
          ]
        }
      ]
    }
  ]
}